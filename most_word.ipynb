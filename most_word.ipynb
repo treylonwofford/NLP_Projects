{
  "nbformat": 4,
  "nbformat_minor": 0,
  "metadata": {
    "colab": {
      "provenance": [],
      "authorship_tag": "ABX9TyODTD0EgSex0NDH0Mv/qi+9",
      "include_colab_link": true
    },
    "kernelspec": {
      "name": "python3",
      "display_name": "Python 3"
    },
    "language_info": {
      "name": "python"
    }
  },
  "cells": [
    {
      "cell_type": "markdown",
      "metadata": {
        "id": "view-in-github",
        "colab_type": "text"
      },
      "source": [
        "<a href=\"https://colab.research.google.com/github/treylonwofford/NLP_Projects/blob/main/most_word.ipynb\" target=\"_parent\"><img src=\"https://colab.research.google.com/assets/colab-badge.svg\" alt=\"Open In Colab\"/></a>"
      ]
    },
    {
      "cell_type": "markdown",
      "source": [
        "##1. Tools for text processing\n",
        "We'll check which words are used the most in \"The Logic of Chance, 3rd edition by John Venn\" and how often.\n",
        "We'll get the book from the website using Python requests with the NLP toolkit(nltk)"
      ],
      "metadata": {
        "id": "3bhwridkgbd9"
      }
    },
    {
      "cell_type": "code",
      "execution_count": 32,
      "metadata": {
        "id": "lVIIr_xCgXc-"
      },
      "outputs": [],
      "source": [
        "# Import requests, BeautifulSoup and nltk\n",
        "import requests\n",
        "from bs4 import BeautifulSoup\n",
        "import nltk"
      ]
    },
    {
      "cell_type": "markdown",
      "source": [
        "##2. Request from Website\n"
      ],
      "metadata": {
        "id": "F_lpdcS0i4FV"
      }
    },
    {
      "cell_type": "code",
      "source": [
        "r = requests.get(\"https://www.gutenberg.org/cache/epub/57359/pg57359-images.html\")\n",
        "r.encoding = 'utf-8'\n",
        "html = r.text\n",
        "html[:2000]"
      ],
      "metadata": {
        "colab": {
          "base_uri": "https://localhost:8080/",
          "height": 105
        },
        "id": "MEm7N1eyi4rw",
        "outputId": "f57f96c3-ecd0-4103-e35f-b5b723e119fa"
      },
      "execution_count": 33,
      "outputs": [
        {
          "output_type": "execute_result",
          "data": {
            "text/plain": [
              "'<!DOCTYPE html>\\r\\n<html lang=\"en\">\\r\\n<head>\\r\\n<meta charset=\"utf-8\"><style>\\r\\n#pg-header div, #pg-footer div {\\r\\n    all: initial;\\r\\n    display: block;\\r\\n    margin-top: 1em;\\r\\n    margin-bottom: 1em;\\r\\n    margin-left: 2em;\\r\\n}\\r\\n#pg-footer div.agate {\\r\\n    font-size: 90%;\\r\\n    margin-top: 0;\\r\\n    margin-bottom: 0;\\r\\n    text-align: center;\\r\\n}\\r\\n#pg-footer li {\\r\\n    all: initial;\\r\\n    display: block;\\r\\n    margin-top: 1em;\\r\\n    margin-bottom: 1em;\\r\\n    text-indent: -0.6em;\\r\\n}\\r\\n#pg-footer div.secthead {\\r\\n    font-size: 110%;\\r\\n    font-weight: bold;\\r\\n}\\r\\n#pg-footer #project-gutenberg-license {\\r\\n    font-size: 110%;\\r\\n    margin-top: 0;\\r\\n    margin-bottom: 0;\\r\\n    text-align: center;\\r\\n}\\r\\n#pg-header-heading {\\r\\n    all: inherit;\\r\\n    text-align: center;\\r\\n    font-size: 120%;\\r\\n    font-weight:bold;\\r\\n}\\r\\n#pg-footer-heading {\\r\\n    all: inherit;\\r\\n    text-align: center;\\r\\n    font-size: 120%;\\r\\n    font-weight: normal;\\r\\n    margin-top: 0;\\r\\n    margin-bottom: 0;\\r\\n}\\r\\n#pg-header #pg-machine-header p {\\r\\n    text-indent: -4em;\\r\\n    margin-left: 4em;\\r\\n    margin-top: 1em;\\r\\n    margin-bottom: 0;\\r\\n    font-size: medium\\r\\n}\\r\\n#pg-header #pg-header-authlist {\\r\\n    all: initial;\\r\\n    margin-top: 0;\\r\\n    margin-bottom: 0;\\r\\n}\\r\\n#pg-header #pg-machine-header strong {\\r\\n    font-weight: normal;\\r\\n}\\r\\n#pg-header #pg-start-separator, #pg-footer #pg-end-separator {\\r\\n    margin-bottom: 3em;\\r\\n    margin-left: 0;\\r\\n    margin-right: auto;\\r\\n    margin-top: 2em;\\r\\n    text-align: center\\r\\n}\\r\\n\\r\\n    .xhtml_center {text-align: center; display: block;}\\r\\n    .xhtml_center table {\\r\\n        display: table;\\r\\n        text-align: left;\\r\\n        margin-left: auto;\\r\\n        margin-right: auto;\\r\\n        }</style><title>The Project Gutenberg eBook of The Logic of Chance by John Venn </title>\\r\\n<style>body {\\r\\n    margin-left: 15%;\\r\\n    margin-right: 15%\\r\\n    }\\r\\np {\\r\\n    text-indent: 0;\\r\\n    text-align: justify\\r\\n    }\\r\\nh1 {\\r\\n    text-align: center;\\r\\n    padding-top: 4ex;\\r\\n    font-weight: normal;\\r\\n    margin: 0\\r\\n    }\\r\\nh2, h3, h4 {\\r\\n    te'"
            ],
            "application/vnd.google.colaboratory.intrinsic+json": {
              "type": "string"
            }
          },
          "metadata": {},
          "execution_count": 33
        }
      ]
    },
    {
      "cell_type": "markdown",
      "source": [
        "## 3. Get the text from the HTML\n",
        "For this we'll use the package BeautifulSoup"
      ],
      "metadata": {
        "id": "gDI9em93jtfT"
      }
    },
    {
      "cell_type": "code",
      "source": [
        "soup = BeautifulSoup(html, \"lxml\")\n",
        "\n",
        "text = soup.get_text()\n",
        "\n",
        "text[32000:34000]"
      ],
      "metadata": {
        "colab": {
          "base_uri": "https://localhost:8080/",
          "height": 105
        },
        "id": "4hNs9auWkATa",
        "outputId": "72c7210e-cca9-4d40-904c-51d8a76ea562"
      },
      "execution_count": 34,
      "outputs": [
        {
          "output_type": "execute_result",
          "data": {
            "text/plain": [
              "\"ese.\\n\\n\\n9.\\xa0Discussion of an objection.\\n\\n\\n10, 11.\\xa0Testimony of worthless witnesses.\\n\\n\\n12–14.\\xa0Common practical ways of regarding such problems.\\n\\n\\n15.\\xa0Extraordinary stories not necessarily less probable.\\n\\n\\n16–18.\\xa0Meaning of the term extraordinary, and its distinction from\\r\\nmiraculous.\\n\\nxxviii\\n\\n19, 20.\\xa0Combination of testimony.\\n\\n\\n21, 22.\\xa0Scientific meaning of a miracle.\\n\\n\\n23, 24.\\xa0Two distinct prepossessions in regard to miracles, and the logical\\r\\nconsequences of these.\\n\\n\\n25.\\xa0Difficulty of discussing by our rules cases in which arbitrary\\r\\ninterference can be postulated.\\n\\n\\n26, 27.\\xa0Consequent inappropriateness of many arguments.\\n\\n CHAPTER XVIII.\\nON THE NATURE AND USE OF AN AVERAGE, AND ON THE DIFFERENT KINDS OF AVERAGE.\\n\\n§:nbsp;1.\\xa0Preliminary rude notion of an average,\\n\\n\\n2.\\xa0More precise quantitative notion, yielding\\n\\n\\n\\xa0(1) the Arithmetical Average,\\n\\n\\n3.\\xa0(2) the Geometrical.\\n\\n\\n4.\\xa0In asymmetrical curves of error the arithmetic average must be distinguished\\r\\nfrom,\\n\\n\\n5.\\xa0(3) the Maximum Ordinate average,\\n\\n\\n6.\\xa0(4) and the Median.\\n\\n\\n7.\\xa0Diagram in illustration.\\n\\n\\n8–10.\\xa0Average departure from the average, considered under the above\\r\\nheads, and under that of\\n\\n\\n11.\\xa0(5) The (average of) Mean Square of Error,\\n\\n\\n12–14.\\xa0The objects of taking averages.\\n\\n\\n15.\\xa0Mr Galton's practical method of determining the average.\\n\\n\\n16, 17.\\xa0No distinction between the average and the mean.\\n\\n\\n18–20.\\xa0Distinction between what is necessary and what is experimental here.\\n\\n\\n21, 22.\\xa0Theoretical defects in the determination of the ‘errors’.\\n\\n\\n23.\\xa0Practical escape from these.\\n\\n\\r\\n(Note about the units in the exponential equation and integral.)\\r\\n\\nxxix\\n CHAPTER XIX.\\nTHE THEORY OF THE AVERAGE AS A MEANS OF APPROXIMATION TO THE TRUTH.\\n\\n§§\\u202f1–4.\\xa0General indication of the problem: i.e. an inverse one requiring the previous consideration of a direct one.\\n\\n\\n[I. The direct problem:—given the central value and law of\\r\\ndispersion of the single errors, to determine those of the\\r\\naverages. §§\\u202f6–20.]\\n\\n\\n6.\\xa0(i) The law of dispersion \""
            ],
            "application/vnd.google.colaboratory.intrinsic+json": {
              "type": "string"
            }
          },
          "metadata": {},
          "execution_count": 34
        }
      ]
    },
    {
      "cell_type": "markdown",
      "source": [
        "##4. Extracts the words"
      ],
      "metadata": {
        "id": "tfsunrTMmVVh"
      }
    },
    {
      "cell_type": "code",
      "source": [
        "tokenizer = nltk.tokenize.RegexpTokenizer(pattern='\\w+')\n",
        "\n",
        "tokens = tokenizer.tokenize(text = text)\n",
        "\n",
        "tokens[:50]"
      ],
      "metadata": {
        "colab": {
          "base_uri": "https://localhost:8080/"
        },
        "id": "evgQ5wc5mVAq",
        "outputId": "c7b77a7a-6ca3-4cf0-bd0b-df4371310936"
      },
      "execution_count": 35,
      "outputs": [
        {
          "output_type": "execute_result",
          "data": {
            "text/plain": [
              "['The',\n",
              " 'Project',\n",
              " 'Gutenberg',\n",
              " 'eBook',\n",
              " 'of',\n",
              " 'The',\n",
              " 'Logic',\n",
              " 'of',\n",
              " 'Chance',\n",
              " 'by',\n",
              " 'John',\n",
              " 'Venn',\n",
              " 'The',\n",
              " 'Project',\n",
              " 'Gutenberg',\n",
              " 'eBook',\n",
              " 'of',\n",
              " 'The',\n",
              " 'Logic',\n",
              " 'of',\n",
              " 'Chance',\n",
              " '3rd',\n",
              " 'edition',\n",
              " 'This',\n",
              " 'ebook',\n",
              " 'is',\n",
              " 'for',\n",
              " 'the',\n",
              " 'use',\n",
              " 'of',\n",
              " 'anyone',\n",
              " 'anywhere',\n",
              " 'in',\n",
              " 'the',\n",
              " 'United',\n",
              " 'States',\n",
              " 'and',\n",
              " 'most',\n",
              " 'other',\n",
              " 'parts',\n",
              " 'of',\n",
              " 'the',\n",
              " 'world',\n",
              " 'at',\n",
              " 'no',\n",
              " 'cost',\n",
              " 'and',\n",
              " 'with',\n",
              " 'almost',\n",
              " 'no']"
            ]
          },
          "metadata": {},
          "execution_count": 35
        }
      ]
    },
    {
      "cell_type": "markdown",
      "source": [
        "##5. Make the words lowercase"
      ],
      "metadata": {
        "id": "G2DwhP2poLcm"
      }
    },
    {
      "cell_type": "code",
      "source": [
        "words = [token.lower() for token in tokens]\n",
        "\n",
        "# printing out the first 8 words / tokens\n",
        "words[:8]"
      ],
      "metadata": {
        "colab": {
          "base_uri": "https://localhost:8080/"
        },
        "id": "hp0IEd3OoL4A",
        "outputId": "9e2b43c6-fb96-470a-c90b-eb112c1c0f6e"
      },
      "execution_count": 36,
      "outputs": [
        {
          "output_type": "execute_result",
          "data": {
            "text/plain": [
              "['the', 'project', 'gutenberg', 'ebook', 'of', 'the', 'logic', 'of']"
            ]
          },
          "metadata": {},
          "execution_count": 36
        }
      ]
    },
    {
      "cell_type": "markdown",
      "source": [
        "##6. Load in the stop words\n",
        "Using stop words to take out words like 'the', 'of', and 'a'."
      ],
      "metadata": {
        "id": "UDlyLR9zovkF"
      }
    },
    {
      "cell_type": "code",
      "source": [
        "# get stopwords\n",
        "nltk.download('stopwords')"
      ],
      "metadata": {
        "colab": {
          "base_uri": "https://localhost:8080/"
        },
        "id": "EeJuag8Covur",
        "outputId": "c2cf0575-b890-4aff-f529-396ca91bb4a5"
      },
      "execution_count": 37,
      "outputs": [
        {
          "output_type": "stream",
          "name": "stderr",
          "text": [
            "[nltk_data] Downloading package stopwords to /root/nltk_data...\n",
            "[nltk_data]   Package stopwords is already up-to-date!\n"
          ]
        },
        {
          "output_type": "execute_result",
          "data": {
            "text/plain": [
              "True"
            ]
          },
          "metadata": {},
          "execution_count": 37
        }
      ]
    },
    {
      "cell_type": "code",
      "source": [
        "sw = nltk.corpus.stopwords.words('english')"
      ],
      "metadata": {
        "id": "AkNfYDtvpg0A"
      },
      "execution_count": 38,
      "outputs": []
    },
    {
      "cell_type": "code",
      "source": [
        "sw[:15]"
      ],
      "metadata": {
        "colab": {
          "base_uri": "https://localhost:8080/"
        },
        "id": "hfNOy-atpqvK",
        "outputId": "be587079-33fb-433e-919e-d93c3997500b"
      },
      "execution_count": 39,
      "outputs": [
        {
          "output_type": "execute_result",
          "data": {
            "text/plain": [
              "['i',\n",
              " 'me',\n",
              " 'my',\n",
              " 'myself',\n",
              " 'we',\n",
              " 'our',\n",
              " 'ours',\n",
              " 'ourselves',\n",
              " 'you',\n",
              " \"you're\",\n",
              " \"you've\",\n",
              " \"you'll\",\n",
              " \"you'd\",\n",
              " 'your',\n",
              " 'yours']"
            ]
          },
          "metadata": {},
          "execution_count": 39
        }
      ]
    },
    {
      "cell_type": "markdown",
      "source": [
        "##7. removing stopwords in the paper\n",
        "Make a list of words from \"The Logic of Chance, 3rd edition by John Venn\" but without using certain common words(stop words). To do this, we'll go through each word in the original list and add it to a new list only if it's not a stop word"
      ],
      "metadata": {
        "id": "kVKMLf93qDdm"
      }
    },
    {
      "cell_type": "code",
      "source": [
        "words_ns = [word for word in words if words not in sw]\n",
        "\n",
        "words_ns[:5]"
      ],
      "metadata": {
        "colab": {
          "base_uri": "https://localhost:8080/"
        },
        "id": "SUT86j-zqDn-",
        "outputId": "6021d3c2-a5df-4e39-cdfa-8d30c477b118"
      },
      "execution_count": 40,
      "outputs": [
        {
          "output_type": "execute_result",
          "data": {
            "text/plain": [
              "['the', 'project', 'gutenberg', 'ebook', 'of']"
            ]
          },
          "metadata": {},
          "execution_count": 40
        }
      ]
    },
    {
      "cell_type": "markdown",
      "source": [
        "##8. Answering the question\n",
        "What are the most frequent words in \"The Logic of Chance, 3rd edition by John Venn\" and how often do they occur?\n",
        "\n",
        "We are now ready to answer that! Let's create a word frequency distribution plot using nltk.\n"
      ],
      "metadata": {
        "id": "VViWa_ybuD_I"
      }
    },
    {
      "cell_type": "code",
      "source": [
        "%matplotlib inline"
      ],
      "metadata": {
        "id": "v1hVCRn1uEHB"
      },
      "execution_count": 41,
      "outputs": []
    },
    {
      "cell_type": "code",
      "source": [
        "freqdist = nltk.FreqDist(words_ns)\n",
        "\n",
        "freqdist.plot(25)"
      ],
      "metadata": {
        "colab": {
          "base_uri": "https://localhost:8080/",
          "height": 495
        },
        "id": "cQO0PWPxvXrI",
        "outputId": "b5a6c708-c571-420d-9f45-a39a35276425"
      },
      "execution_count": 42,
      "outputs": [
        {
          "output_type": "display_data",
          "data": {
            "text/plain": [
              "<Figure size 640x480 with 1 Axes>"
            ],
            "image/png": "[encoded data removed]"
          },
          "metadata": {}
        },
        {
          "output_type": "execute_result",
          "data": {
            "text/plain": [
              "<Axes: xlabel='Samples', ylabel='Counts'>"
            ]
          },
          "metadata": {},
          "execution_count": 42
        }
      ]
    },
    {
      "cell_type": "code",
      "source": [
        "import matplotlib.pyplot as plt\n",
        "\n",
        "freqdist = nltk.FreqDist(words_ns)\n",
        "\n",
        "top_words = freqdist.most_common(25)\n",
        "\n",
        "words, frequencies = zip(*top_words)\n",
        "\n",
        "most_common_word, most_common_frequency = freqdist.most_common(1)[0]\n",
        "\n",
        "# Create a bar chart\n",
        "plt.figure(figsize=(10, 6))\n",
        "plt.bar(range(len(words)), frequencies, tick_label=words)\n",
        "plt.xlabel('Words')\n",
        "plt.ylabel('Frequency')\n",
        "plt.title('Top 25 words Frequency Distribution')\n",
        "plt.xticks(rotation=45, ha='right') # Rotate x-axis labels for better visibility\n",
        "plt.tight_layout()\n",
        "plt.show()\n",
        "\n",
        "print(f\"The most common word is '{most_common_word}' with a frequency of {most_common_frequency}\")"
      ],
      "metadata": {
        "colab": {
          "base_uri": "https://localhost:8080/",
          "height": 624
        },
        "id": "bgC_E0lZv_Rf",
        "outputId": "1005f97f-ee8d-494a-c95f-f9fdfd88c383"
      },
      "execution_count": 43,
      "outputs": [
        {
          "output_type": "display_data",
          "data": {
            "text/plain": [
              "<Figure size 1000x600 with 1 Axes>"
            ],
            "image/png": "[encoded data removed]"
          },
          "metadata": {}
        },
        {
          "output_type": "stream",
          "name": "stdout",
          "text": [
            "The most common word is 'the' with a frequency of 11581\n"
          ]
        }
      ]
    }
  ]
}